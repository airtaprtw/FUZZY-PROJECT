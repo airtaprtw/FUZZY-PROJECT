{
 "cells": [
  {
   "cell_type": "code",
   "execution_count": 2,
   "metadata": {},
   "outputs": [
    {
     "data": {
      "text/html": [
       "<div>\n",
       "<style scoped>\n",
       "    .dataframe tbody tr th:only-of-type {\n",
       "        vertical-align: middle;\n",
       "    }\n",
       "\n",
       "    .dataframe tbody tr th {\n",
       "        vertical-align: top;\n",
       "    }\n",
       "\n",
       "    .dataframe thead th {\n",
       "        text-align: right;\n",
       "    }\n",
       "</style>\n",
       "<table border=\"1\" class=\"dataframe\">\n",
       "  <thead>\n",
       "    <tr style=\"text-align: right;\">\n",
       "      <th></th>\n",
       "      <th>mhs</th>\n",
       "      <th>ipk</th>\n",
       "      <th>gaji</th>\n",
       "    </tr>\n",
       "  </thead>\n",
       "  <tbody>\n",
       "    <tr>\n",
       "      <th>0</th>\n",
       "      <td>A</td>\n",
       "      <td>3.00</td>\n",
       "      <td>10</td>\n",
       "    </tr>\n",
       "    <tr>\n",
       "      <th>1</th>\n",
       "      <td>B</td>\n",
       "      <td>2.99</td>\n",
       "      <td>1</td>\n",
       "    </tr>\n",
       "  </tbody>\n",
       "</table>\n",
       "</div>"
      ],
      "text/plain": [
       "  mhs   ipk  gaji\n",
       "0   A  3.00    10\n",
       "1   B  2.99     1"
      ]
     },
     "execution_count": 2,
     "metadata": {},
     "output_type": "execute_result"
    }
   ],
   "source": [
    "import numpy as np\n",
    "import pandas as pd\n",
    "\n",
    "dataMahasiswa = pd.read_csv(\"data_Mahasiswa.csv\")\n",
    "dataMahasiswa "
   ]
  },
  {
   "cell_type": "code",
   "execution_count": 3,
   "metadata": {},
   "outputs": [
    {
     "name": "stdout",
     "output_type": "stream",
     "text": [
      "ipk_A:  3.0\n",
      "ipk_B:  2.99\n"
     ]
    }
   ],
   "source": [
    "# data ipk\n",
    "# mengubah data mahasiswa menjadi array\n",
    "data_ipk = np.array(dataMahasiswa)\n",
    "# memilih kolom 0 dan 1 dari data ipk\n",
    "data_ipk = data_ipk[:,[0,1]]\n",
    "\n",
    "# menghitung total ipk untuk mahasiswa A\n",
    "ipk_A = np.sum(data_ipk[0:1,1], axis=0)\n",
    "# menghitung total ipk untuk mahasiswa B\n",
    "ipk_B = np.sum(data_ipk[1:2,1], axis=0)\n",
    "\n",
    "print(\"ipk_A: \", ipk_A)\n",
    "print(\"ipk_B: \", ipk_B)"
   ]
  },
  {
   "cell_type": "code",
   "execution_count": 4,
   "metadata": {},
   "outputs": [
    {
     "name": "stdout",
     "output_type": "stream",
     "text": [
      "gaji_A:  10\n",
      "gaji_B:  1\n"
     ]
    }
   ],
   "source": [
    "# data gaji\n",
    "# mengubah data mahasiswa menjadi array gaji\n",
    "data_gaji = np.array(dataMahasiswa)\n",
    "data_gaji = data_gaji[:,[0,2]]\n",
    "\n",
    "# menghitung total gaji untuk mahasiswa A\n",
    "gaji_A = np.sum(data_gaji[0:1,1], axis=0)\n",
    "# menghitung total gaji untuk mahasiswa B\n",
    "gaji_B = np.sum(data_gaji[1:2,1], axis=0)\n",
    "\n",
    "print(\"gaji_A: \", gaji_A)\n",
    "print(\"gaji_B: \", gaji_B)"
   ]
  },
  {
   "cell_type": "code",
   "execution_count": 5,
   "metadata": {},
   "outputs": [
    {
     "ename": "ModuleNotFoundError",
     "evalue": "No module named 'skfuzzy'",
     "output_type": "error",
     "traceback": [
      "\u001b[1;31m---------------------------------------------------------------------------\u001b[0m",
      "\u001b[1;31mModuleNotFoundError\u001b[0m                       Traceback (most recent call last)",
      "Cell \u001b[1;32mIn[5], line 1\u001b[0m\n\u001b[1;32m----> 1\u001b[0m \u001b[38;5;28;01mimport\u001b[39;00m \u001b[38;5;21;01mskfuzzy\u001b[39;00m \u001b[38;5;28;01mas\u001b[39;00m \u001b[38;5;21;01mfuzz\u001b[39;00m\n\u001b[0;32m      2\u001b[0m \u001b[38;5;28;01mimport\u001b[39;00m \u001b[38;5;21;01mmatplotlib\u001b[39;00m\u001b[38;5;21;01m.\u001b[39;00m\u001b[38;5;21;01mpyplot\u001b[39;00m \u001b[38;5;28;01mas\u001b[39;00m \u001b[38;5;21;01mplt\u001b[39;00m\n\u001b[0;32m      3\u001b[0m \u001b[38;5;28;01mimport\u001b[39;00m \u001b[38;5;21;01mnumpy\u001b[39;00m \u001b[38;5;28;01mas\u001b[39;00m \u001b[38;5;21;01mnp\u001b[39;00m\n",
      "\u001b[1;31mModuleNotFoundError\u001b[0m: No module named 'skfuzzy'"
     ]
    }
   ],
   "source": [
    "import skfuzzy as fuzz\n",
    "import matplotlib.pyplot as plt\n",
    "import numpy as np\n",
    "\n",
    "# Semesta Pembicaraan\n",
    "x_ipk = np.arange(0, 4, 0.25)\n",
    "x_gaji = np.arange(0, 15, 1)\n",
    "x_nk = np.arange(0, 100, 1)\n",
    "\n",
    "# Membership Function\n",
    "# ipk\n",
    "ipk_buruk = fuzz.trapmf(x_ipk, [0, 0, 2, 2.75])\n",
    "ipk_cukup = fuzz.trimf(x_ipk, [2, 2.75, 3.25])\n",
    "ipk_bagus = fuzz.trapmf(x_ipk, [2.74, 3.25, 4, 4])\n",
    "\n",
    "# Gaji\n",
    "gaji_kecil = fuzz.trapmf(x_gaji, [0, 0, 1, 3])\n",
    "gaji_sedang = fuzz.trapmf(x_gaji, [1, 2, 4, 6])\n",
    "gaji_besar = fuzz.trapmf(x_gaji, [4, 6, 7, 12])\n",
    "gaji_sangat_besar = fuzz.trapmf(x_gaji, [7, 12, 15, 15])\n",
    "\n",
    "# Nilai kelayakan\n",
    "nk_rendah = fuzz.trapmf(x_nk, [0, 0, 50, 80])\n",
    "nk_tinggi = fuzz.trapmf(x_nk, [50, 80, 100, 100])\n",
    "\n",
    "# kurva membership function\n",
    "fig, (ax0, ax1, ax2) = plt.subplots(nrows=3, figsize=(8,9))\n",
    "\n",
    "ax0.plot(x_ipk, ipk_buruk, 'b', linewidth=1.5, label='Buruk')\n",
    "ax0.plot(x_ipk, ipk_cukup, 'g', linewidth=1.5, label='Cukup')\n",
    "ax0.plot(x_ipk, ipk_bagus, 'r', linewidth=1.5, label='Bagus')\n",
    "ax0.set_title('IPK')\n",
    "ax0.legend()\n",
    "\n",
    "ax1.plot(x_gaji, gaji_kecil, 'b', linewidth=1.5, label='Kecil')\n",
    "ax1.plot(x_gaji, gaji_sedang, 'g', linewidth=1.5, label='Sedang')\n",
    "ax1.plot(x_gaji, gaji_besar, 'r', linewidth=1.5, label='Besar')\n",
    "ax1.plot(x_gaji, gaji_sangat_besar, 'm', linewidth=1.5, label='Sangat besar')\n",
    "ax1.set_title('Gaji')\n",
    "ax1.legend()\n",
    "\n",
    "ax2.plot(x_nk, nk_rendah, 'b', linewidth=1.5, label='Rendah')\n",
    "ax2.plot(x_nk, nk_tinggi, 'r', linewidth=1.5, label='Tinggi')\n",
    "ax2.set_title('Nilai Kelayakan')\n",
    "ax2.legend()\n",
    "\n",
    "for ax in (ax0, ax1, ax2) :\n",
    "    ax.spines['top'].set_visible(False)\n",
    "    ax.spines['right'].set_visible(False)\n",
    "    ax.get_xaxis().tick_bottom()\n",
    "    ax.get_yaxis().tick_left()\n",
    "\n",
    "plt.tight_layout()"
   ]
  }
 ],
 "metadata": {
  "kernelspec": {
   "display_name": "myenv",
   "language": "python",
   "name": "python3"
  },
  "language_info": {
   "codemirror_mode": {
    "name": "ipython",
    "version": 3
   },
   "file_extension": ".py",
   "mimetype": "text/x-python",
   "name": "python",
   "nbconvert_exporter": "python",
   "pygments_lexer": "ipython3",
   "version": "3.10.4"
  }
 },
 "nbformat": 4,
 "nbformat_minor": 2
}
